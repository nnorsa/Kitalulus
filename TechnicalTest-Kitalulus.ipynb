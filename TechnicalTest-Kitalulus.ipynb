{
 "cells": [
  {
   "cell_type": "code",
   "execution_count": 248,
   "id": "0cfd28ea",
   "metadata": {},
   "outputs": [],
   "source": [
    "from matplotlib.ticker import StrMethodFormatter\n",
    "import pandas as pd\n",
    "import numpy as np\n",
    "import matplotlib.pyplot as plt\n",
    "import seaborn as sns"
   ]
  },
  {
   "cell_type": "code",
   "execution_count": 249,
   "id": "a770dd7f",
   "metadata": {},
   "outputs": [
    {
     "data": {
      "text/html": [
       "<div>\n",
       "<style scoped>\n",
       "    .dataframe tbody tr th:only-of-type {\n",
       "        vertical-align: middle;\n",
       "    }\n",
       "\n",
       "    .dataframe tbody tr th {\n",
       "        vertical-align: top;\n",
       "    }\n",
       "\n",
       "    .dataframe thead th {\n",
       "        text-align: right;\n",
       "    }\n",
       "</style>\n",
       "<table border=\"1\" class=\"dataframe\">\n",
       "  <thead>\n",
       "    <tr style=\"text-align: right;\">\n",
       "      <th></th>\n",
       "      <th>InvoiceNo</th>\n",
       "      <th>StockCode</th>\n",
       "      <th>Description</th>\n",
       "      <th>Quantity</th>\n",
       "      <th>InvoiceDate</th>\n",
       "      <th>UnitPrice</th>\n",
       "      <th>CustomerID</th>\n",
       "      <th>Country</th>\n",
       "    </tr>\n",
       "  </thead>\n",
       "  <tbody>\n",
       "    <tr>\n",
       "      <th>0</th>\n",
       "      <td>536365</td>\n",
       "      <td>85123A</td>\n",
       "      <td>WHITE HANGING HEART T-LIGHT HOLDER</td>\n",
       "      <td>6</td>\n",
       "      <td>2010-12-01 08:26:00</td>\n",
       "      <td>2.55</td>\n",
       "      <td>17850.0</td>\n",
       "      <td>United Kingdom</td>\n",
       "    </tr>\n",
       "    <tr>\n",
       "      <th>1</th>\n",
       "      <td>536365</td>\n",
       "      <td>71053</td>\n",
       "      <td>WHITE METAL LANTERN</td>\n",
       "      <td>6</td>\n",
       "      <td>2010-12-01 08:26:00</td>\n",
       "      <td>3.39</td>\n",
       "      <td>17850.0</td>\n",
       "      <td>United Kingdom</td>\n",
       "    </tr>\n",
       "    <tr>\n",
       "      <th>2</th>\n",
       "      <td>536365</td>\n",
       "      <td>84406B</td>\n",
       "      <td>CREAM CUPID HEARTS COAT HANGER</td>\n",
       "      <td>8</td>\n",
       "      <td>2010-12-01 08:26:00</td>\n",
       "      <td>2.75</td>\n",
       "      <td>17850.0</td>\n",
       "      <td>United Kingdom</td>\n",
       "    </tr>\n",
       "    <tr>\n",
       "      <th>3</th>\n",
       "      <td>536365</td>\n",
       "      <td>84029G</td>\n",
       "      <td>KNITTED UNION FLAG HOT WATER BOTTLE</td>\n",
       "      <td>6</td>\n",
       "      <td>2010-12-01 08:26:00</td>\n",
       "      <td>3.39</td>\n",
       "      <td>17850.0</td>\n",
       "      <td>United Kingdom</td>\n",
       "    </tr>\n",
       "    <tr>\n",
       "      <th>4</th>\n",
       "      <td>536365</td>\n",
       "      <td>84029E</td>\n",
       "      <td>RED WOOLLY HOTTIE WHITE HEART.</td>\n",
       "      <td>6</td>\n",
       "      <td>2010-12-01 08:26:00</td>\n",
       "      <td>3.39</td>\n",
       "      <td>17850.0</td>\n",
       "      <td>United Kingdom</td>\n",
       "    </tr>\n",
       "  </tbody>\n",
       "</table>\n",
       "</div>"
      ],
      "text/plain": [
       "  InvoiceNo StockCode                          Description  Quantity  \\\n",
       "0    536365    85123A   WHITE HANGING HEART T-LIGHT HOLDER         6   \n",
       "1    536365     71053                  WHITE METAL LANTERN         6   \n",
       "2    536365    84406B       CREAM CUPID HEARTS COAT HANGER         8   \n",
       "3    536365    84029G  KNITTED UNION FLAG HOT WATER BOTTLE         6   \n",
       "4    536365    84029E       RED WOOLLY HOTTIE WHITE HEART.         6   \n",
       "\n",
       "          InvoiceDate  UnitPrice  CustomerID         Country  \n",
       "0 2010-12-01 08:26:00       2.55     17850.0  United Kingdom  \n",
       "1 2010-12-01 08:26:00       3.39     17850.0  United Kingdom  \n",
       "2 2010-12-01 08:26:00       2.75     17850.0  United Kingdom  \n",
       "3 2010-12-01 08:26:00       3.39     17850.0  United Kingdom  \n",
       "4 2010-12-01 08:26:00       3.39     17850.0  United Kingdom  "
      ]
     },
     "execution_count": 249,
     "metadata": {},
     "output_type": "execute_result"
    }
   ],
   "source": [
    "data = pd.read_excel('E:/Pekerjaan/New Folder/Online Retail.xlsx')\n",
    "data.head()"
   ]
  },
  {
   "cell_type": "code",
   "execution_count": 250,
   "id": "d6bae154",
   "metadata": {},
   "outputs": [],
   "source": [
    "#mengembalikan index menjadi kolom\n",
    "data = data.reset_index()  "
   ]
  },
  {
   "cell_type": "code",
   "execution_count": 251,
   "id": "256539ea",
   "metadata": {},
   "outputs": [
    {
     "name": "stdout",
     "output_type": "stream",
     "text": [
      "<class 'pandas.core.frame.DataFrame'>\n",
      "RangeIndex: 541909 entries, 0 to 541908\n",
      "Data columns (total 9 columns):\n",
      " #   Column       Non-Null Count   Dtype         \n",
      "---  ------       --------------   -----         \n",
      " 0   index        541909 non-null  int64         \n",
      " 1   InvoiceNo    541909 non-null  object        \n",
      " 2   StockCode    541909 non-null  object        \n",
      " 3   Description  540455 non-null  object        \n",
      " 4   Quantity     541909 non-null  int64         \n",
      " 5   InvoiceDate  541909 non-null  datetime64[ns]\n",
      " 6   UnitPrice    541909 non-null  float64       \n",
      " 7   CustomerID   406829 non-null  float64       \n",
      " 8   Country      541909 non-null  object        \n",
      "dtypes: datetime64[ns](1), float64(2), int64(2), object(4)\n",
      "memory usage: 37.2+ MB\n"
     ]
    }
   ],
   "source": [
    "data.info()"
   ]
  },
  {
   "cell_type": "code",
   "execution_count": 252,
   "id": "eeb6c2e7",
   "metadata": {},
   "outputs": [
    {
     "data": {
      "text/plain": [
       "index               0\n",
       "InvoiceNo           0\n",
       "StockCode           0\n",
       "Description      1454\n",
       "Quantity            0\n",
       "InvoiceDate         0\n",
       "UnitPrice           0\n",
       "CustomerID     135080\n",
       "Country             0\n",
       "dtype: int64"
      ]
     },
     "execution_count": 252,
     "metadata": {},
     "output_type": "execute_result"
    }
   ],
   "source": [
    "data.isna().sum()"
   ]
  },
  {
   "cell_type": "code",
   "execution_count": 253,
   "id": "ce1022a1",
   "metadata": {},
   "outputs": [],
   "source": [
    "data['Description'].fillna('Unknown', inplace=True)\n",
    "data['CustomerID'].fillna('0', inplace=True)"
   ]
  },
  {
   "cell_type": "code",
   "execution_count": 254,
   "id": "c9e94b7d",
   "metadata": {},
   "outputs": [
    {
     "data": {
      "text/plain": [
       "index          0\n",
       "InvoiceNo      0\n",
       "StockCode      0\n",
       "Description    0\n",
       "Quantity       0\n",
       "InvoiceDate    0\n",
       "UnitPrice      0\n",
       "CustomerID     0\n",
       "Country        0\n",
       "dtype: int64"
      ]
     },
     "execution_count": 254,
     "metadata": {},
     "output_type": "execute_result"
    }
   ],
   "source": [
    "data.isna().sum()"
   ]
  },
  {
   "cell_type": "code",
   "execution_count": 255,
   "id": "dbfb3694",
   "metadata": {},
   "outputs": [
    {
     "name": "stdout",
     "output_type": "stream",
     "text": [
      "<class 'pandas.core.frame.DataFrame'>\n",
      "RangeIndex: 541909 entries, 0 to 541908\n",
      "Data columns (total 9 columns):\n",
      " #   Column       Non-Null Count   Dtype         \n",
      "---  ------       --------------   -----         \n",
      " 0   index        541909 non-null  int64         \n",
      " 1   InvoiceNo    541909 non-null  object        \n",
      " 2   StockCode    541909 non-null  object        \n",
      " 3   Description  541909 non-null  object        \n",
      " 4   Quantity     541909 non-null  int64         \n",
      " 5   InvoiceDate  541909 non-null  datetime64[ns]\n",
      " 6   UnitPrice    541909 non-null  float64       \n",
      " 7   CustomerID   541909 non-null  object        \n",
      " 8   Country      541909 non-null  object        \n",
      "dtypes: datetime64[ns](1), float64(1), int64(2), object(5)\n",
      "memory usage: 37.2+ MB\n"
     ]
    }
   ],
   "source": [
    "data.info()"
   ]
  },
  {
   "cell_type": "code",
   "execution_count": 259,
   "id": "821f2606",
   "metadata": {},
   "outputs": [],
   "source": [
    "data['CustomerID'] = pd.to_numeric(data['CustomerID'], errors='coerce')"
   ]
  },
  {
   "cell_type": "code",
   "execution_count": 260,
   "id": "86305a9c",
   "metadata": {},
   "outputs": [],
   "source": [
    "data['CustomerID'] = data['CustomerID'].astype('Int64')"
   ]
  },
  {
   "cell_type": "code",
   "execution_count": 262,
   "id": "12d1e65d",
   "metadata": {},
   "outputs": [
    {
     "name": "stdout",
     "output_type": "stream",
     "text": [
      "Int64\n"
     ]
    }
   ],
   "source": [
    "print(data['CustomerID'].dtype)"
   ]
  },
  {
   "cell_type": "markdown",
   "id": "90a5bd4c",
   "metadata": {},
   "source": [
    "# Analyze"
   ]
  },
  {
   "cell_type": "code",
   "execution_count": 224,
   "id": "e08f4ad3",
   "metadata": {},
   "outputs": [],
   "source": [
    "data['TotalSales'] = data['Quantity']*data['UnitPrice']"
   ]
  },
  {
   "cell_type": "markdown",
   "id": "c1a30ea0",
   "metadata": {},
   "source": [
    "**Revenue of Month**"
   ]
  },
  {
   "cell_type": "code",
   "execution_count": 225,
   "id": "f0f61800",
   "metadata": {
    "scrolled": true
   },
   "outputs": [
    {
     "data": {
      "text/plain": [
       "InvoiceDate\n",
       "2010-12-31     748957.020\n",
       "2011-01-31     560000.260\n",
       "2011-02-28     498062.650\n",
       "2011-03-31     683267.080\n",
       "2011-04-30     493207.121\n",
       "2011-05-31     723333.510\n",
       "2011-06-30     691123.120\n",
       "2011-07-31     681300.111\n",
       "2011-08-31     682680.510\n",
       "2011-09-30    1019687.622\n",
       "2011-10-31    1070704.670\n",
       "2011-11-30    1461756.250\n",
       "2011-12-31     433668.010\n",
       "Freq: M, Name: TotalSales, dtype: float64"
      ]
     },
     "execution_count": 225,
     "metadata": {},
     "output_type": "execute_result"
    }
   ],
   "source": [
    "data = data.set_index('InvoiceDate')\n",
    "monthly_revenue = data['TotalSales'].resample('M').sum()\n",
    "monthly_revenue"
   ]
  },
  {
   "cell_type": "code",
   "execution_count": 226,
   "id": "3a0ed6ab",
   "metadata": {},
   "outputs": [
    {
     "data": {
      "image/png": "[encoded data removed]",
      "text/plain": [
       "<Figure size 720x360 with 1 Axes>"
      ]
     },
     "metadata": {
      "needs_background": "light"
     },
     "output_type": "display_data"
    }
   ],
   "source": [
    "dates = monthly_revenue.index\n",
    "sales = monthly_revenue.values\n",
    "\n",
    "plt.figure(figsize=(10, 5))\n",
    "plt.plot(dates, sales, color='#1B0C41', linewidth=1.5)\n",
    "plt.xticks(dates, labels=[date.strftime('%b %Y') for date in dates], rotation=45, ha='right') #menampilkan seluruh bulan\n",
    "\n",
    "plt.xlabel('InvoiceDate')\n",
    "plt.ylabel('TotalSales')\n",
    "plt.title('Revenue of Month')\n",
    "\n",
    "#plt.grid(True)\n",
    "plt.show()"
   ]
  },
  {
   "cell_type": "markdown",
   "id": "2a1447e1",
   "metadata": {},
   "source": [
    "From the analysis to find out the revenue from December 2010 to December 2011, the highest revenue was in November 2011, with a total of 1,461,756.250. Meanwhile, the lowest revenue was in December 2011, with a total of 433,668.010. This needs deeper analysis to understand why the revenue in December 2011 was very low and dropped significantly compared to November 2011, even though it only took one month."
   ]
  },
  {
   "cell_type": "markdown",
   "id": "3d9fe813",
   "metadata": {},
   "source": [
    "**Top 10 Produk by TotalSales**"
   ]
  },
  {
   "cell_type": "code",
   "execution_count": 227,
   "id": "a0f7286a",
   "metadata": {},
   "outputs": [
    {
     "data": {
      "text/plain": [
       "StockCode\n",
       "DOT       206245.48\n",
       "22423     164762.19\n",
       "47566      98302.98\n",
       "85123A     97894.50\n",
       "85099B     92356.03\n",
       "23084      66756.59\n",
       "POST       66230.64\n",
       "22086      63791.94\n",
       "84879      58959.73\n",
       "79321      53768.06\n",
       "Name: TotalSales, dtype: float64"
      ]
     },
     "execution_count": 227,
     "metadata": {},
     "output_type": "execute_result"
    }
   ],
   "source": [
    "stockcode_sales = data.groupby('StockCode')['TotalSales'].sum()\n",
    "stockcode_sales_sort = stockcode_sales.sort_values(ascending=False)\n",
    "stockcode_sales_sort.head(10)"
   ]
  },
  {
   "cell_type": "code",
   "execution_count": 228,
   "id": "3ae56852",
   "metadata": {
    "scrolled": true
   },
   "outputs": [
    {
     "data": {
      "image/png": "[encoded data removed]",
      "text/plain": [
       "<Figure size 720x360 with 1 Axes>"
      ]
     },
     "metadata": {
      "needs_background": "light"
     },
     "output_type": "display_data"
    }
   ],
   "source": [
    "# Ambil 10 besar TotalSales\n",
    "stockcode_sales_top10 = stockcode_sales_sort.head(10).reset_index()\n",
    "stockcode_sales_top10.columns = ['StockCode', 'TotalSales']\n",
    "\n",
    "# Plot ulang\n",
    "plt.figure(figsize=(10, 5))\n",
    "ax = sns.barplot(x='StockCode', y='TotalSales', data=stockcode_sales_top10, palette='magma')\n",
    "\n",
    "for i in ax.containers:  # Loop untuk setiap batang di plot\n",
    "    ax.bar_label(i, fmt='%.0f', label_type='edge')  # Menampilkan label dengan format angka bulat\n",
    "\n",
    "plt.xticks(rotation=45)  # Rotasi agar lebih rapi\n",
    "plt.title('Top 10 StockCode by TotalSales')\n",
    "plt.show()"
   ]
  },
  {
   "cell_type": "markdown",
   "id": "660999e9",
   "metadata": {},
   "source": [
    "In the bar chart above, it shows the revenue from stockcodes (products) by taking the top 10 highest revenues. Stockcode 'DOT' ranks first with revenue of 206,245.48, followed by stockcode '22423' with revenue of 164,762.19, and stockcode '47566' with total revenue of 98,302.98. The tenth stockcode, '79321', has total revenue of 53,768.\n",
    "\n",
    "This can be concluded that these 10 products have the highest revenue or are the biggest contributors to the total revenue earned by the store."
   ]
  },
  {
   "cell_type": "markdown",
   "id": "03a1f0bb",
   "metadata": {},
   "source": [
    "**Monthly Product Sold**"
   ]
  },
  {
   "cell_type": "code",
   "execution_count": 229,
   "id": "b31ddd85",
   "metadata": {},
   "outputs": [],
   "source": [
    "data = data.reset_index()  "
   ]
  },
  {
   "cell_type": "code",
   "execution_count": 230,
   "id": "4b213f3e",
   "metadata": {},
   "outputs": [
    {
     "data": {
      "text/html": [
       "<div>\n",
       "<style scoped>\n",
       "    .dataframe tbody tr th:only-of-type {\n",
       "        vertical-align: middle;\n",
       "    }\n",
       "\n",
       "    .dataframe tbody tr th {\n",
       "        vertical-align: top;\n",
       "    }\n",
       "\n",
       "    .dataframe thead th {\n",
       "        text-align: right;\n",
       "    }\n",
       "</style>\n",
       "<table border=\"1\" class=\"dataframe\">\n",
       "  <thead>\n",
       "    <tr style=\"text-align: right;\">\n",
       "      <th></th>\n",
       "      <th>InvoiceDate</th>\n",
       "      <th>Quantity</th>\n",
       "    </tr>\n",
       "  </thead>\n",
       "  <tbody>\n",
       "    <tr>\n",
       "      <th>0</th>\n",
       "      <td>2010-12-31</td>\n",
       "      <td>342228</td>\n",
       "    </tr>\n",
       "    <tr>\n",
       "      <th>1</th>\n",
       "      <td>2011-01-31</td>\n",
       "      <td>308966</td>\n",
       "    </tr>\n",
       "    <tr>\n",
       "      <th>2</th>\n",
       "      <td>2011-02-28</td>\n",
       "      <td>277989</td>\n",
       "    </tr>\n",
       "    <tr>\n",
       "      <th>3</th>\n",
       "      <td>2011-03-31</td>\n",
       "      <td>351872</td>\n",
       "    </tr>\n",
       "    <tr>\n",
       "      <th>4</th>\n",
       "      <td>2011-04-30</td>\n",
       "      <td>289098</td>\n",
       "    </tr>\n",
       "    <tr>\n",
       "      <th>5</th>\n",
       "      <td>2011-05-31</td>\n",
       "      <td>380391</td>\n",
       "    </tr>\n",
       "    <tr>\n",
       "      <th>6</th>\n",
       "      <td>2011-06-30</td>\n",
       "      <td>341623</td>\n",
       "    </tr>\n",
       "    <tr>\n",
       "      <th>7</th>\n",
       "      <td>2011-07-31</td>\n",
       "      <td>391116</td>\n",
       "    </tr>\n",
       "    <tr>\n",
       "      <th>8</th>\n",
       "      <td>2011-08-31</td>\n",
       "      <td>406199</td>\n",
       "    </tr>\n",
       "    <tr>\n",
       "      <th>9</th>\n",
       "      <td>2011-09-30</td>\n",
       "      <td>549817</td>\n",
       "    </tr>\n",
       "    <tr>\n",
       "      <th>10</th>\n",
       "      <td>2011-10-31</td>\n",
       "      <td>570532</td>\n",
       "    </tr>\n",
       "    <tr>\n",
       "      <th>11</th>\n",
       "      <td>2011-11-30</td>\n",
       "      <td>740286</td>\n",
       "    </tr>\n",
       "    <tr>\n",
       "      <th>12</th>\n",
       "      <td>2011-12-31</td>\n",
       "      <td>226333</td>\n",
       "    </tr>\n",
       "  </tbody>\n",
       "</table>\n",
       "</div>"
      ],
      "text/plain": [
       "   InvoiceDate  Quantity\n",
       "0   2010-12-31    342228\n",
       "1   2011-01-31    308966\n",
       "2   2011-02-28    277989\n",
       "3   2011-03-31    351872\n",
       "4   2011-04-30    289098\n",
       "5   2011-05-31    380391\n",
       "6   2011-06-30    341623\n",
       "7   2011-07-31    391116\n",
       "8   2011-08-31    406199\n",
       "9   2011-09-30    549817\n",
       "10  2011-10-31    570532\n",
       "11  2011-11-30    740286\n",
       "12  2011-12-31    226333"
      ]
     },
     "execution_count": 230,
     "metadata": {},
     "output_type": "execute_result"
    }
   ],
   "source": [
    "data = data.set_index('InvoiceDate')\n",
    "monthly_quantity = data['Quantity'].resample('M').sum().reset_index()\n",
    "monthly_quantity"
   ]
  },
  {
   "cell_type": "code",
   "execution_count": 231,
   "id": "5e0f9663",
   "metadata": {},
   "outputs": [
    {
     "data": {
      "image/png": "[encoded data removed]",
      "text/plain": [
       "<Figure size 864x432 with 1 Axes>"
      ]
     },
     "metadata": {
      "needs_background": "light"
     },
     "output_type": "display_data"
    }
   ],
   "source": [
    "# Mengubah hasil resample menjadi DataFrame\n",
    "monthly_quantity['Month'] = monthly_quantity['InvoiceDate'].dt.strftime('%b')  # Singkatan nama bulan\n",
    "monthly_quantity['Year'] = monthly_quantity['InvoiceDate'].dt.year            # Tahun\n",
    "\n",
    "# Visualisasi menggunakan seaborn\n",
    "plt.figure(figsize=(12, 6))\n",
    "ax = sns.barplot(x=monthly_quantity['InvoiceDate'], y=monthly_quantity['Quantity'], color='#CA4E5E')\n",
    "\n",
    "# Menambahkan label di atas batang\n",
    "for i in ax.containers:\n",
    "    ax.bar_label(i, fmt='%.0f', label_type='edge')  # Menampilkan angka tanpa desimal\n",
    "\n",
    "#menampilkan bulan dan tahun\n",
    "ax.set_xticks(range(len(monthly_quantity)))  # Posisi setiap label\n",
    "ax.set_xticklabels(\n",
    "    [f\"{row['Month']}\\n{row['Year']}\" for _, row in monthly_quantity.iterrows()],\n",
    "    rotation=45\n",
    ")\n",
    "\n",
    "# Tambahkan judul dan label sumbu\n",
    "plt.title('Monthly Product Sold (Quantity)')\n",
    "plt.xlabel('Month')\n",
    "plt.ylabel('Total Quantity')\n",
    "\n",
    "plt.show()"
   ]
  },
  {
   "cell_type": "markdown",
   "id": "07dd8d38",
   "metadata": {},
   "source": [
    "The analysis here aims to find out the number of products sold each month. It can be seen that the highest number of products sold was in November 2011, with a total of 740,286 products, while the lowest number of products sold was in December 2011, with a total of 226,333 products.\n",
    "\n",
    "This aligns with the revenue analysis done earlier, where the highest revenue was recorded in November 2011, and the lowest in December 2011. It turns out there is a connection between these two findings. The significant difference in revenue between these months is due to the much higher number of products sold in November compared to December. However, further analysis is needed to understand why the number of products sold and the revenue dropped so significantly in just one month."
   ]
  },
  {
   "cell_type": "markdown",
   "id": "4508a50f",
   "metadata": {},
   "source": [
    "**The Number of Stockcode**"
   ]
  },
  {
   "cell_type": "code",
   "execution_count": 270,
   "id": "cf8525c6",
   "metadata": {},
   "outputs": [
    {
     "data": {
      "text/plain": [
       "StockCode\n",
       "22197     56450\n",
       "84077     53847\n",
       "85099B    47363\n",
       "85123A    38830\n",
       "84879     36221\n",
       "Name: Quantity, dtype: int64"
      ]
     },
     "execution_count": 270,
     "metadata": {},
     "output_type": "execute_result"
    }
   ],
   "source": [
    "item = data.groupby('StockCode')['Quantity'].sum()\n",
    "item_sort = item.sort_values(ascending=False)\n",
    "item_sort.head()"
   ]
  },
  {
   "cell_type": "code",
   "execution_count": 271,
   "id": "98c5d484",
   "metadata": {},
   "outputs": [
    {
     "data": {
      "image/png": "[encoded data removed]",
      "text/plain": [
       "<Figure size 720x360 with 1 Axes>"
      ]
     },
     "metadata": {
      "needs_background": "light"
     },
     "output_type": "display_data"
    }
   ],
   "source": [
    "item_top5 = item_sort.head(5).reset_index()\n",
    "#membalik urutan untuk memastikan visualisasi descending di barh\n",
    "item_top5 = item_top5.iloc[::-1]\n",
    "\n",
    "fig, ax = plt.subplots(figsize=(10, 5))\n",
    "ax = item_top5.plot(\n",
    "    kind='barh',\n",
    "    x='StockCode',  # Kolom untuk sumbu y (StockCode)\n",
    "    y='Quantity',   # Kolom untuk sumbu x (Total Quantity)\n",
    "    color='#FEDA79',\n",
    "    zorder=2,\n",
    "    width=0.85,\n",
    "    ax=ax\n",
    ")\n",
    "\n",
    "# Despine\n",
    "ax.spines['right'].set_visible(False)\n",
    "ax.spines['top'].set_visible(False)\n",
    "ax.spines['left'].set_visible(False)\n",
    "ax.spines['bottom'].set_visible(False)\n",
    "\n",
    "# Switch off ticks\n",
    "ax.tick_params(axis=\"both\", which=\"both\", bottom=False, top=False, labelbottom=True, left=False, right=False, labelleft=True)\n",
    "\n",
    "# Draw vertical axis lines\n",
    "vals = ax.get_xticks()\n",
    "for tick in vals:\n",
    "    ax.axvline(x=tick, linestyle='dashed', alpha=0.4, color='#eeeeee', zorder=1)\n",
    "\n",
    "for i in ax.containers:  # Loop untuk setiap batang di plot\n",
    "    ax.bar_label(i, fmt='%.0f', label_type='edge')  # Menampilkan label dengan format angka bulat\n",
    "\n",
    "# Set x-axis label\n",
    "ax.set_xlabel(\"Total Quantity\", labelpad=20, size=12)\n",
    "\n",
    "# Set y-axis label\n",
    "ax.set_ylabel(\"Stockcode\", labelpad=20, size=12)\n",
    "\n",
    "# Format x-axis labels\n",
    "ax.xaxis.set_major_formatter(StrMethodFormatter('{x:,g}'))\n",
    "\n",
    "# Tampilkan plot\n",
    "plt.show()"
   ]
  },
  {
   "cell_type": "markdown",
   "id": "99889926",
   "metadata": {},
   "source": [
    "In this analysis, the top 5 products most frequently sold or purchased by customers over one year were identified. The product with stockcode 22197 ranks first with a total of 5,640 units sold, followed by stockcode 84077 with 53,847 units sold, and in the fifth or last position, stockcode 84879 with 36,221 units sold.\n",
    "\n",
    "Considering these five stockcodes are the most favored by customers, proper stock management is necessary to minimize stock shortages. Meanwhile, for stockcodes that are rarely purchased by customers, a bundling strategy can be implemented with popular products (those in the top 5). With this strategy, products that are less popular among customers are expected to sell in better quantities compared to not bundling them. Additionally, customers who were previously unaware of these products can discover them through the bundling. This can encourage customers to make purchases of less popular products."
   ]
  },
  {
   "cell_type": "markdown",
   "id": "e9089cf4",
   "metadata": {},
   "source": [
    "**Total Sales by Country**"
   ]
  },
  {
   "cell_type": "code",
   "execution_count": 235,
   "id": "96b3c656",
   "metadata": {},
   "outputs": [
    {
     "data": {
      "text/plain": [
       "Country\n",
       "United Kingdom    8187806.364\n",
       "Netherlands        284661.540\n",
       "EIRE               263276.820\n",
       "Germany            221698.210\n",
       "France             197403.900\n",
       "Name: TotalSales, dtype: float64"
      ]
     },
     "execution_count": 235,
     "metadata": {},
     "output_type": "execute_result"
    }
   ],
   "source": [
    "country_sales = data.groupby('Country')['TotalSales'].sum()\n",
    "country_sales_sort = country_sales.sort_values(ascending=False)\n",
    "country_sales_sort.head()"
   ]
  },
  {
   "cell_type": "code",
   "execution_count": 236,
   "id": "4e62e22f",
   "metadata": {},
   "outputs": [
    {
     "data": {
      "image/png": "[encoded data removed]",
      "text/plain": [
       "<Figure size 720x504 with 1 Axes>"
      ]
     },
     "metadata": {},
     "output_type": "display_data"
    }
   ],
   "source": [
    "country_top5 = country_sales_sort.head(5).reset_index()\n",
    "\n",
    "colors = ['#CA4E5E', '#ED7953', '#FDAD3A', '#FEDA79', '#FCFDBF']\n",
    "\n",
    "# Explosion effect (menyesuaikan dengan jumlah negara)\n",
    "explode = [0.05] * len(country_top5)\n",
    " \n",
    "# Pie Chart\n",
    "plt.figure(figsize=(10, 7))\n",
    "plt.pie(country_top5['TotalSales'], colors=colors, labels=country_top5['Country'], \n",
    "        autopct='%1.1f%%', pctdistance=0.76, explode=explode)\n",
    "\n",
    "# draw circle\n",
    "centre_circle = plt.Circle((0, 0), 0.58, fc='white')\n",
    "fig = plt.gcf()\n",
    " \n",
    "# Adding Circle in Pie chart\n",
    "fig.gca().add_artist(centre_circle)\n",
    " \n",
    "# Adding Title of chart\n",
    "plt.title('Total Sales by Country')\n",
    " \n",
    "# Displaying Chart\n",
    "plt.show()"
   ]
  },
  {
   "cell_type": "markdown",
   "id": "7875c623",
   "metadata": {},
   "source": [
    "The displayed donut chart shows the analysis of total revenue by country. The United Kingdom ranks first with total revenue of 8,187,806.364, followed by the Netherlands with 284,661.540. In the fifth or last position is France, with total revenue of 197,403.900.\n",
    "\n",
    "From this analysis, it is important to strengthen marketing strategies in high-revenue countries like the United Kingdom to maintain their contribution. Meanwhile, for countries with lower revenue, strategies to increase brand awareness can be implemented, such as offering special promotions, improving product distribution, or running better advertising campaigns. With these steps, revenue from low-contributing countries is expected to increase, positively impacting total revenue overall."
   ]
  },
  {
   "cell_type": "code",
   "execution_count": 237,
   "id": "a9b972b8",
   "metadata": {},
   "outputs": [
    {
     "data": {
      "text/plain": [
       "Country\n",
       "United Kingdom    4263829\n",
       "Netherlands        200128\n",
       "EIRE               142637\n",
       "Germany            117448\n",
       "France             110480\n",
       "Name: Quantity, dtype: int64"
      ]
     },
     "execution_count": 237,
     "metadata": {},
     "output_type": "execute_result"
    }
   ],
   "source": [
    "country_sales = data.groupby('Country')['Quantity'].sum()\n",
    "country_sales_sort = country_sales.sort_values(ascending=False)\n",
    "country_sales_sort.head()"
   ]
  },
  {
   "cell_type": "markdown",
   "id": "b3b37eeb",
   "metadata": {},
   "source": [
    "**Total Customer by Country**"
   ]
  },
  {
   "cell_type": "code",
   "execution_count": 238,
   "id": "60058976",
   "metadata": {},
   "outputs": [
    {
     "data": {
      "text/plain": [
       "Country\n",
       "United Kingdom    3951\n",
       "Germany             95\n",
       "France              88\n",
       "Spain               31\n",
       "Belgium             25\n",
       "Name: CustomerID, dtype: int64"
      ]
     },
     "execution_count": 238,
     "metadata": {},
     "output_type": "execute_result"
    }
   ],
   "source": [
    "countrycust_num = data.groupby('Country')['CustomerID'].nunique()\n",
    "countrycust_num_sort = countrycust_num.sort_values(ascending=False)\n",
    "countrycust_num_sort.head()"
   ]
  },
  {
   "cell_type": "code",
   "execution_count": 239,
   "id": "53d2448d",
   "metadata": {},
   "outputs": [
    {
     "data": {
      "image/png": "[encoded data removed]",
      "text/plain": [
       "<Figure size 720x504 with 1 Axes>"
      ]
     },
     "metadata": {},
     "output_type": "display_data"
    }
   ],
   "source": [
    "countrycust_top5 = countrycust_num_sort.head(5).reset_index()\n",
    "\n",
    "colors = ['#CA4E5E', '#ED7953', '#FDAD3A', '#FEDA79', '#FCFDBF']\n",
    "\n",
    "# Explosion effect (menyesuaikan dengan jumlah negara)\n",
    "explode = [0.05] * len(countrycust_top5)\n",
    " \n",
    "# Pie Chart\n",
    "plt.figure(figsize=(10, 7))\n",
    "plt.pie(countrycust_top5['CustomerID'], colors=colors, labels=countrycust_top5['Country'], \n",
    "        autopct=lambda p: '{:.0f}'.format(p * sum(countrycust_top5['CustomerID']) / 100), \n",
    "        pctdistance=0.76, explode=explode)\n",
    "\n",
    "# draw circle\n",
    "centre_circle = plt.Circle((0, 0), 0.58, fc='white')\n",
    "fig = plt.gcf()\n",
    " \n",
    "# Adding Circle in Pie chart\n",
    "fig.gca().add_artist(centre_circle)\n",
    " \n",
    "# Adding Title of chart\n",
    "plt.title('Total Customer by Country')\n",
    " \n",
    "# Displaying Chart\n",
    "plt.show()"
   ]
  },
  {
   "cell_type": "markdown",
   "id": "000481f2",
   "metadata": {},
   "source": [
    "In this analysis, the top 5 countries are shown based on the number of customers who made purchases at the store. The country with the highest number of customers in the past year is the United Kingdom, with 3,951 customers, followed by Germany with 95 customers, France with 88 customers, Spain with 31 customers, and finally, Belgium with 25 customers.\n",
    "\n",
    "Although these 5 countries have the most customers shopping at the store, it is possible that the number of customers doesn't always relate to a large number of products being purchased. This can be seen in Spain and Belgium, which, despite having many customers, are not in the top 5 countries with the highest product purchases.\n",
    "\n",
    "Therefore, marketing strategies should be improved in Spain and Belgium, such as offering special promotions or attractive deals, to increase their product purchases and help them enter the top 5 countries with the highest number of products bought."
   ]
  },
  {
   "cell_type": "markdown",
   "id": "6fbe33b6",
   "metadata": {},
   "source": [
    "**Identifying Repeat Customers**"
   ]
  },
  {
   "cell_type": "code",
   "execution_count": 288,
   "id": "0c71ce35",
   "metadata": {},
   "outputs": [
    {
     "data": {
      "text/plain": [
       "CustomerID\n",
       "14911    248\n",
       "12748    225\n",
       "17841    168\n",
       "14606    129\n",
       "15311    118\n",
       "13089    114\n",
       "12971     86\n",
       "14527     85\n",
       "13408     77\n",
       "14646     77\n",
       "Name: InvoiceDate, dtype: int64"
      ]
     },
     "execution_count": 288,
     "metadata": {},
     "output_type": "execute_result"
    }
   ],
   "source": [
    "data_filtered = data[data['CustomerID'] != 0]\n",
    "\n",
    "customer_transactions = data_filtered.groupby('CustomerID')['InvoiceDate'].nunique()\n",
    "customer_transactions_sort = customer_transactions.sort_values(ascending=False)\n",
    "customer_transactions_sort.head(10)"
   ]
  },
  {
   "cell_type": "code",
   "execution_count": 287,
   "id": "d86aade7",
   "metadata": {},
   "outputs": [
    {
     "data": {
      "image/png": "[encoded data removed]",
      "text/plain": [
       "<Figure size 720x360 with 1 Axes>"
      ]
     },
     "metadata": {
      "needs_background": "light"
     },
     "output_type": "display_data"
    }
   ],
   "source": [
    "cust_top10 = customer_transactions_sort.head(10).reset_index()\n",
    "#membalik urutan untuk memastikan visualisasi descending di barh\n",
    "cust_top10 = cust_top10.iloc[::-1]\n",
    "\n",
    "fig, ax = plt.subplots(figsize=(10, 5))\n",
    "ax = cust_top10.plot(\n",
    "    kind='barh',\n",
    "    x='CustomerID',  # Kolom untuk sumbu y (StockCode)\n",
    "    y='InvoiceDate',   # Kolom untuk sumbu x (Total Quantity)\n",
    "    color='#ED7953',\n",
    "    zorder=2,\n",
    "    width=0.85,\n",
    "    ax=ax\n",
    ")\n",
    "\n",
    "# Despine\n",
    "ax.spines['right'].set_visible(False)\n",
    "ax.spines['top'].set_visible(False)\n",
    "ax.spines['left'].set_visible(False)\n",
    "ax.spines['bottom'].set_visible(False)\n",
    "\n",
    "# Switch off ticks\n",
    "ax.tick_params(axis=\"both\", which=\"both\", bottom=False, top=False, labelbottom=True, left=False, right=False, labelleft=True)\n",
    "\n",
    "# Draw vertical axis lines\n",
    "vals = ax.get_xticks()\n",
    "for tick in vals:\n",
    "    ax.axvline(x=tick, linestyle='dashed', alpha=0.4, color='#eeeeee', zorder=1)\n",
    "\n",
    "for i in ax.containers:  # Loop untuk setiap batang di plot\n",
    "    ax.bar_label(i, fmt='%.0f', label_type='edge')  # Menampilkan label dengan format angka bulat\n",
    "\n",
    "# Set x-axis label\n",
    "ax.set_xlabel(\"Repeat Purchases Count\", labelpad=20, size=12)\n",
    "\n",
    "# Set y-axis label\n",
    "ax.set_ylabel(\"CustomerID\", labelpad=20, size=12)\n",
    "\n",
    "# Format x-axis labels\n",
    "ax.xaxis.set_major_formatter(StrMethodFormatter('{x:,g}'))\n",
    "\n",
    "# Tampilkan plot\n",
    "plt.show()"
   ]
  },
  {
   "cell_type": "markdown",
   "id": "9cba7aac",
   "metadata": {},
   "source": [
    "This analysis aims to determine whether customers make repeat purchases at the store and to calculate how often customers visit the store to shop. The bar chart above shows that the customer with ID 14911 is the most frequent shopper, with a total of 248 visits. Next, the customer with ID 12748 made 225 visits, followed by the customer with ID 17841 with 168 visits, down to the customer in the tenth position, ID 14646, who visited 77 times.\n",
    "\n",
    "To maintain and even increase the shopping frequency of these customers, special programs such as discounts or attractive offers should be implemented. Additionally, further efforts are needed for customers who have only made a single purchase or visit, such as providing promotions or engaging communications. This way, these customers may become more interested in returning to the store and increasing their spending."
   ]
  }
 ],
 "metadata": {
  "kernelspec": {
   "display_name": "Python 3 (ipykernel)",
   "language": "python",
   "name": "python3"
  },
  "language_info": {
   "codemirror_mode": {
    "name": "ipython",
    "version": 3
   },
   "file_extension": ".py",
   "mimetype": "text/x-python",
   "name": "python",
   "nbconvert_exporter": "python",
   "pygments_lexer": "ipython3",
   "version": "3.9.12"
  }
 },
 "nbformat": 4,
 "nbformat_minor": 5
}
